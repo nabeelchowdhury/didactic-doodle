{
 "cells": [
  {
   "cell_type": "code",
   "execution_count": null,
   "metadata": {},
   "outputs": [],
   "source": [
    "dna_sequence = 'atcgctagctag'\n",
    "upper_sequence = dna_sequence.upper()\n",
    "replace_sequence = upper_sequence.replace('A', 'T')\n",
    "\n",
    "print(f\"\"\"\n",
    "Original : {dna_sequence}\n",
    "Upper : {upper_sequence}\n",
    "Replaced : {replace_sequence}\n",
    "    \"\"\")\n",
    "\n",
    "genetic_marker = 'TCGA'\n",
    "\n",
    "if genetic_marker in upper_sequence:\n",
    "    \n",
    "    print(f\"Genetic marker located : {genetic_marker}\")\n",
    "\n",
    "user = input(\"Select the letter you would like to split off : \").upper()\n",
    "segment = upper_sequence.split(user)\n",
    "print(f\"Segments split by {user} : {segment}\")\n",
    "\n",
    "trait_sequence = 'TAG'\n",
    "\n",
    "if trait_sequence in segment:\n",
    "    \n",
    "    print(f\"Trait for blue eyes {trait_sequence} likely present\")"
   ]
  }
 ],
 "metadata": {
  "kernelspec": {
   "display_name": "Python 3",
   "language": "python",
   "name": "python3"
  },
  "language_info": {
   "name": "python",
   "version": "3.9.13"
  }
 },
 "nbformat": 4,
 "nbformat_minor": 2
}
